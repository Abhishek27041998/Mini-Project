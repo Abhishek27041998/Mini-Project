{
 "cells": [
  {
   "cell_type": "code",
   "execution_count": 1,
   "metadata": {},
   "outputs": [
    {
     "name": "stderr",
     "output_type": "stream",
     "text": [
      "/home/abhishek/anaconda3/lib/python3.6/importlib/_bootstrap.py:219: RuntimeWarning: numpy.dtype size changed, may indicate binary incompatibility. Expected 96, got 88\n",
      "  return f(*args, **kwds)\n",
      "/home/abhishek/anaconda3/lib/python3.6/importlib/_bootstrap.py:219: RuntimeWarning: numpy.dtype size changed, may indicate binary incompatibility. Expected 96, got 88\n",
      "  return f(*args, **kwds)\n",
      "/home/abhishek/anaconda3/lib/python3.6/importlib/_bootstrap.py:219: RuntimeWarning: numpy.dtype size changed, may indicate binary incompatibility. Expected 96, got 88\n",
      "  return f(*args, **kwds)\n",
      "/home/abhishek/anaconda3/lib/python3.6/importlib/_bootstrap.py:219: RuntimeWarning: numpy.dtype size changed, may indicate binary incompatibility. Expected 96, got 88\n",
      "  return f(*args, **kwds)\n"
     ]
    }
   ],
   "source": [
    "from sklearn.feature_extraction.image import extract_patches_2d\n",
    "from sklearn.feature_extraction import image\n",
    "import numpy as np\n",
    "import cv2\n"
   ]
  },
  {
   "cell_type": "code",
   "execution_count": 2,
   "metadata": {},
   "outputs": [],
   "source": [
    "#Reading the input image\n",
    "\n",
    "img = cv2.imread('2.jpg')\n",
    "\n",
    "m,n,l = img.shape\n",
    "\n",
    "b,g,r = cv2.split(img)\n",
    "\n",
    "window_shape = (6, 6)"
   ]
  },
  {
   "cell_type": "code",
   "execution_count": 3,
   "metadata": {},
   "outputs": [
    {
     "name": "stderr",
     "output_type": "stream",
     "text": [
      "/home/abhishek/anaconda3/lib/python3.6/site-packages/sklearn/feature_extraction/image.py:287: FutureWarning: Using a non-tuple sequence for multidimensional indexing is deprecated; use `arr[tuple(seq)]` instead of `arr[seq]`. In the future this will be interpreted as an array index, `arr[np.array(seq)]`, which will result either in an error or a different result.\n",
      "  indexing_strides = arr[slices].strides\n"
     ]
    }
   ],
   "source": [
    "#sklearn library to extract all 2d patches of specified window shape\n",
    "\n",
    "blue = extract_patches_2d(b, window_shape)\n",
    "green = extract_patches_2d(g, window_shape)\n",
    "red = extract_patches_2d(r, window_shape)\n"
   ]
  },
  {
   "cell_type": "code",
   "execution_count": 9,
   "metadata": {},
   "outputs": [],
   "source": [
    "# Variables\n",
    "Dg = []\n",
    "Db = []\n",
    "\n",
    "Bl_pixels = []\n",
    "Gr_pixels = []\n",
    "Re_pixels = []\n"
   ]
  },
  {
   "cell_type": "code",
   "execution_count": 10,
   "metadata": {},
   "outputs": [],
   "source": [
    "#Estimating the pixels whose patch variation is < 0.9\n",
    "\n",
    "for i in range(len(blue)):\n",
    "    bl = blue[i]\n",
    "    gr = green[i]\n",
    "    re = red[i]\n",
    "    \n",
    "    bls = list(bl.flat)\n",
    "    grls = list(gr.flat)\n",
    "    rels = list(re.flat)\n",
    "    \n",
    "    if np.var(bl) < 0.9 or np.var(gr) < 0.9 or np.var(re) < 0.9:\n",
    "        Db.extend([a - b for a, b in zip(bls, rels)])\n",
    "        Dg.extend([a - b for a, b in zip(grls, rels)])\n",
    "\n",
    "        Bl_pixels.extend(bls)\n",
    "        Gr_pixels.extend(grls)\n",
    "        Re_pixels.extend(rels)"
   ]
  },
  {
   "cell_type": "code",
   "execution_count": 11,
   "metadata": {},
   "outputs": [],
   "source": [
    "#Getting the max of Db and Dg\n",
    "\n",
    "maxB = Db[0]\n",
    "maxG = Dg[0]\n",
    "indB = 0\n",
    "indG = 0\n",
    "\n",
    "ind = 0\n",
    "maxR = 0\n",
    "for i in range(1,len(Db)):\n",
    "    if maxB < Db[i] or maxG < Dg[i]:\n",
    "        if maxR < Re_pixels[i]:\n",
    "            ind = i\n",
    "            maxB = Db[i]\n",
    "            maxG = Dg[i]\n",
    "            maxR = Re_pixels[i]"
   ]
  },
  {
   "cell_type": "code",
   "execution_count": 12,
   "metadata": {},
   "outputs": [],
   "source": [
    "#Backlight Pixels\n",
    "Backlight = []\n",
    "\n",
    "Backlight.append(Bl_pixels[ind])\n",
    "Backlight.append(Gr_pixels[ind])\n",
    "Backlight.append(Re_pixels[ind])\n"
   ]
  },
  {
   "cell_type": "code",
   "execution_count": 13,
   "metadata": {},
   "outputs": [
    {
     "data": {
      "text/plain": [
       "[150, 176, 86]"
      ]
     },
     "execution_count": 13,
     "metadata": {},
     "output_type": "execute_result"
    }
   ],
   "source": [
    "Backlight"
   ]
  },
  {
   "cell_type": "code",
   "execution_count": 14,
   "metadata": {},
   "outputs": [],
   "source": [
    "#reconstruct back the image from patches(Optional run)\n",
    "\n",
    "reconsBlue = image.reconstruct_from_patches_2d(blue, (m,n))\n",
    "reconsGreen = image.reconstruct_from_patches_2d(green, (m,n))\n",
    "reconsRed = image.reconstruct_from_patches_2d(red, (m,n))\n"
   ]
  },
  {
   "cell_type": "code",
   "execution_count": 10,
   "metadata": {},
   "outputs": [],
   "source": [
    "final_img = np.zeros((img.shape[0], img.shape[1], 3))\n",
    "\n",
    "final_img[:,:,0] = reconsBlue\n",
    "final_img[:,:,1] = reconsGreen\n",
    "final_img[:,:,2] = reconsRed\n"
   ]
  },
  {
   "cell_type": "code",
   "execution_count": 11,
   "metadata": {},
   "outputs": [
    {
     "data": {
      "text/plain": [
       "True"
      ]
     },
     "execution_count": 11,
     "metadata": {},
     "output_type": "execute_result"
    }
   ],
   "source": [
    "cv2.imwrite('Output1.jpg',final_img)\n"
   ]
  },
  {
   "cell_type": "code",
   "execution_count": 15,
   "metadata": {},
   "outputs": [],
   "source": [
    "#Marking pixels = Backlight in original image\n",
    "\n",
    "i_ind = 0\n",
    "j_ind = 0\n",
    "flag = 0\n",
    "for i in range(m):\n",
    "    for j in range(n):\n",
    "        if Backlight == list(img[i,j]):\n",
    "                i_ind = i\n",
    "                j_ind = j\n",
    "                img[i,j] = 0\n",
    "                img[i+1,j] = 0\n",
    "                img[i,j+1]=0\n",
    "                img[i-1,j]=0\n",
    "                img[i-1,j-1]=0\n",
    "                img[i+1,j+1]=0\n",
    "                #flag = 1\n",
    "                #break   \n",
    "        #if flag == 1:\n",
    "            #break"
   ]
  },
  {
   "cell_type": "code",
   "execution_count": 16,
   "metadata": {},
   "outputs": [
    {
     "data": {
      "text/plain": [
       "True"
      ]
     },
     "execution_count": 16,
     "metadata": {},
     "output_type": "execute_result"
    }
   ],
   "source": [
    "cv2.imwrite('Output2.jpg',img)"
   ]
  },
  {
   "cell_type": "code",
   "execution_count": 17,
   "metadata": {},
   "outputs": [
    {
     "name": "stdout",
     "output_type": "stream",
     "text": [
      "lamda_b :  0.6924651162790698  lamda_g :  0.536416490486258\n"
     ]
    }
   ],
   "source": [
    "#Finding attenuation ratios \n",
    "\n",
    "Sb = (-0.00113*450 + 1.6251)\n",
    "Sg = (-0.00113*540 + 1.6251)\n",
    "Sr = (-0.00113*620 + 1.6251)\n",
    "\n",
    "#Attenuation ratios\n",
    "\n",
    "lamda_b = (Sb*Backlight[2])/(Sr*Backlight[0])\n",
    "\n",
    "lamda_g = (Sg*Backlight[2])/(Sr*Backlight[1])\n",
    "\n",
    "print('lamda_b : ',lamda_b, ' lamda_g : ',lamda_g)"
   ]
  },
  {
   "cell_type": "code",
   "execution_count": 18,
   "metadata": {},
   "outputs": [
    {
     "name": "stderr",
     "output_type": "stream",
     "text": [
      "/home/abhishek/anaconda3/lib/python3.6/site-packages/ipykernel_launcher.py:7: RuntimeWarning: overflow encountered in ubyte_scalars\n",
      "  import sys\n",
      "IOPub data rate exceeded.\n",
      "The notebook server will temporarily stop sending output\n",
      "to the client in order to avoid crashing it.\n",
      "To change this limit, set the config variable\n",
      "`--NotebookApp.iopub_data_rate_limit`.\n",
      "\n",
      "Current values:\n",
      "NotebookApp.iopub_data_rate_limit=1000000.0 (bytes/sec)\n",
      "NotebookApp.rate_limit_window=3.0 (secs)\n",
      "\n"
     ]
    }
   ],
   "source": [
    "#Finding Initial Transmission of Red Channel\n",
    "\n",
    "tr = []\n",
    "for i in range(m):\n",
    "    trans = []\n",
    "    for j in range(n):\n",
    "        trans.append((r[i][j] - Backlight[2])/np.max([(r[i][j] - Backlight[k]) for k in range(len(Backlight))]))\n",
    "    tr.append(trans)\n",
    "\n",
    "print(tr)"
   ]
  },
  {
   "cell_type": "code",
   "execution_count": 19,
   "metadata": {},
   "outputs": [
    {
     "name": "stdout",
     "output_type": "stream",
     "text": [
      "[[1.         1.         1.         ... 1.         1.         1.        ]\n",
      " [1.         1.         1.         ... 1.         1.         1.        ]\n",
      " [1.         1.         1.         ... 1.         1.         1.        ]\n",
      " ...\n",
      " [0.         1.         1.         ... 0.3140496  0.32244897 0.32520324]\n",
      " [1.         0.01030928 1.         ... 0.30833334 0.33333334 0.32244897]\n",
      " [1.         0.01030928 1.         ... 0.31120333 0.31967214 0.30833334]]\n"
     ]
    }
   ],
   "source": [
    "#Refining Transmission using WLS Filter\n",
    "\n",
    "#Matlab code refered from : http://cs.huji.ac.il/~danix/epd/wlsFilter.m\n",
    "r_trans = np.array(tr)\n",
    "print(r_trans)\n",
    "\n",
    "L = np.log(r_trans + np.spacing(1))\n",
    "\n",
    "alpha = 1.2\n",
    "\n",
    "lamda = 0.05\n",
    "\n",
    "smallNum = 0.0001\n",
    "\n",
    "r,c = r_trans.shape\n",
    "\n",
    "k = r*c\n",
    "\n",
    "dy = np.diff(L,0,0)\n",
    "\n",
    "old_dy = dy\n",
    "absDy = abs(dy)\n",
    "\n",
    "power = (np.power(absDy,alpha) + smallNum)\n",
    "\n",
    "dy = np.divide(lamda,power)\n",
    "\n",
    "dy = np.pad(dy,(1,0),'constant')\n",
    "\n",
    "dy = dy.flatten()"
   ]
  },
  {
   "cell_type": "code",
   "execution_count": 21,
   "metadata": {},
   "outputs": [],
   "source": [
    "dx = np.diff(L,0,1)\n",
    "\n",
    "old_dx = dx\n",
    "\n",
    "absDx = abs(dx)\n",
    "\n",
    "powerDx = (np.power(absDx,alpha) + smallNum)\n",
    "\n",
    "dx = np.divide(lamda,powerDx)\n",
    "\n",
    "dx = np.pad(dx,(0,1),'constant')\n",
    "\n",
    "dx = dx.flatten()"
   ]
  },
  {
   "cell_type": "code",
   "execution_count": 22,
   "metadata": {},
   "outputs": [],
   "source": [
    "lapMat = np.zeros(shape=(len(dx),2))\n",
    "\n",
    "lapMat[:,0] = dx\n",
    "lapMat[:,1] = dy\n",
    "\n",
    "d = [-r,-1]\n",
    "\n",
    "lapMat = np.transpose(lapMat)\n",
    "\n",
    "import scipy\n",
    "\n",
    "reslapMat = scipy.sparse.spdiags(lapMat,d,k,k)\n"
   ]
  },
  {
   "cell_type": "code",
   "execution_count": 23,
   "metadata": {},
   "outputs": [
    {
     "data": {
      "text/plain": [
       "(538900, 538900)"
      ]
     },
     "execution_count": 23,
     "metadata": {},
     "output_type": "execute_result"
    }
   ],
   "source": [
    "reslapMat.shape"
   ]
  },
  {
   "cell_type": "code",
   "execution_count": 24,
   "metadata": {},
   "outputs": [],
   "source": [
    "e = dx\n",
    "\n",
    "w = np.lib.pad(dx,(r,0),'constant',constant_values=(0))\n"
   ]
  },
  {
   "cell_type": "code",
   "execution_count": 25,
   "metadata": {},
   "outputs": [],
   "source": [
    "w = w[0:len(w)-r]"
   ]
  },
  {
   "cell_type": "code",
   "execution_count": 26,
   "metadata": {},
   "outputs": [],
   "source": [
    "s = dy\n",
    "\n",
    "n = np.lib.pad(dy,(1,0),'constant',constant_values=(0))\n",
    "\n",
    "n = n[0:(len(n) - 1)]\n"
   ]
  },
  {
   "cell_type": "code",
   "execution_count": 27,
   "metadata": {},
   "outputs": [
    {
     "data": {
      "text/plain": [
       "((540385,), (540385,), (540385,), (540385,), (540385,))"
      ]
     },
     "execution_count": 27,
     "metadata": {},
     "output_type": "execute_result"
    }
   ],
   "source": [
    "e.shape,w.shape,s.shape,n.shape,dy.shape"
   ]
  },
  {
   "cell_type": "code",
   "execution_count": 28,
   "metadata": {},
   "outputs": [],
   "source": [
    "D = 1-(e+w+s+n);"
   ]
  },
  {
   "cell_type": "code",
   "execution_count": 29,
   "metadata": {},
   "outputs": [],
   "source": [
    "A = reslapMat\n",
    "\n",
    "temp = np.transpose(D)\n",
    "\n",
    "A = A + np.transpose(A) + scipy.sparse.spdiags(temp, 0, k, k);\n",
    "\n"
   ]
  },
  {
   "cell_type": "code",
   "execution_count": 30,
   "metadata": {},
   "outputs": [
    {
     "data": {
      "text/plain": [
       "<538900x538900 sparse matrix of type '<class 'numpy.float64'>'\n",
       "\twith 2688998 stored elements in Compressed Sparse Row format>"
      ]
     },
     "execution_count": 30,
     "metadata": {},
     "output_type": "execute_result"
    }
   ],
   "source": [
    "A"
   ]
  },
  {
   "cell_type": "code",
   "execution_count": 31,
   "metadata": {},
   "outputs": [
    {
     "data": {
      "text/plain": [
       "(538900, 538900)"
      ]
     },
     "execution_count": 31,
     "metadata": {},
     "output_type": "execute_result"
    }
   ],
   "source": [
    "A.shape"
   ]
  },
  {
   "cell_type": "code",
   "execution_count": 32,
   "metadata": {},
   "outputs": [
    {
     "data": {
      "text/plain": [
       "scipy.sparse.csr.csr_matrix"
      ]
     },
     "execution_count": 32,
     "metadata": {},
     "output_type": "execute_result"
    }
   ],
   "source": [
    "type(A)"
   ]
  },
  {
   "cell_type": "code",
   "execution_count": 33,
   "metadata": {},
   "outputs": [],
   "source": [
    "from scipy.sparse.linalg import spsolve\n",
    "\n",
    "tr_flat = r_trans.flatten()\n",
    "\n",
    "x = spsolve(A, tr_flat)"
   ]
  },
  {
   "cell_type": "code",
   "execution_count": 34,
   "metadata": {},
   "outputs": [
    {
     "data": {
      "text/plain": [
       "((538900,), array([ 1.49055165e+00,  1.44503187e+00,  1.39898462e+00, ...,\n",
       "        -5.74268861e-04, -4.91312045e-04, -3.42275273e-04]))"
      ]
     },
     "execution_count": 34,
     "metadata": {},
     "output_type": "execute_result"
    }
   ],
   "source": [
    "x.shape,x"
   ]
  },
  {
   "cell_type": "code",
   "execution_count": 35,
   "metadata": {},
   "outputs": [],
   "source": [
    "refined_trans = x.reshape((r,c))"
   ]
  },
  {
   "cell_type": "code",
   "execution_count": 36,
   "metadata": {},
   "outputs": [
    {
     "data": {
      "text/plain": [
       "((634, 850), array([[ 1.49055165e+00,  1.44503187e+00,  1.39898462e+00, ...,\n",
       "         -4.36589657e-02, -4.81708542e-02, -5.35051888e-02],\n",
       "        [ 1.00000000e+00, -6.56234180e-02, -7.61341993e-02, ...,\n",
       "          1.29242576e+00,  1.30152768e+00,  1.31063473e+00],\n",
       "        [ 1.31984639e+00,  1.32937416e+00,  1.33608657e+00, ...,\n",
       "          9.79917184e-01,  9.35320640e-01,  8.91272598e-01],\n",
       "        ...,\n",
       "        [ 2.92178885e-01,  2.96645119e-01,  2.98931414e-01, ...,\n",
       "          4.67728164e-01,  4.66088519e-01,  4.64915461e-01],\n",
       "        [ 4.67417996e-01,  4.68874933e-01,  4.67975978e-01, ...,\n",
       "         -2.90797911e-02, -2.43455509e-02, -1.69339811e-02],\n",
       "        [-1.70549274e-02, -1.79949566e-02, -2.60492164e-02, ...,\n",
       "         -5.74268861e-04, -4.91312045e-04, -3.42275273e-04]]))"
      ]
     },
     "execution_count": 36,
     "metadata": {},
     "output_type": "execute_result"
    }
   ],
   "source": [
    "refined_trans.shape,refined_trans"
   ]
  },
  {
   "cell_type": "code",
   "execution_count": 37,
   "metadata": {},
   "outputs": [
    {
     "data": {
      "text/plain": [
       "'\\n#x = np.linalg.solve(A, np.transpose(tr_flat))\\n\\nfrom scipy import linalg\\nx = linalg.solve(A, tr_flat)\\n'"
      ]
     },
     "execution_count": 37,
     "metadata": {},
     "output_type": "execute_result"
    }
   ],
   "source": [
    "'''\n",
    "import numpy.linalg as lin\n",
    "\n",
    "x_out,resid_out,rank_out,s_out = np.linalg.lstsq(A,tr_flat)\n",
    "'''\n",
    "'''\n",
    "from scipy.sparse.linalg import lsqr\n",
    "\n",
    "#Run this part of code.\n",
    "\n",
    "x_out,resid_out,rank_out,s_out = lsqr(A,tr_flat)[:4]\n",
    "'''\n",
    "\n",
    "'''\n",
    "#x = np.linalg.solve(A, np.transpose(tr_flat))\n",
    "\n",
    "from scipy import linalg\n",
    "x = linalg.solve(A, tr_flat)\n",
    "'''"
   ]
  },
  {
   "cell_type": "code",
   "execution_count": 30,
   "metadata": {},
   "outputs": [],
   "source": [
    "#Normalizing backlight \n",
    "\n",
    "normBacklight = [item/256 for item in Backlight]"
   ]
  },
  {
   "cell_type": "code",
   "execution_count": 31,
   "metadata": {},
   "outputs": [],
   "source": [
    "normBacklight.extend([(1-item) for item in normBacklight])"
   ]
  },
  {
   "cell_type": "code",
   "execution_count": 32,
   "metadata": {},
   "outputs": [],
   "source": [
    "denoMax = max(normBacklight)"
   ]
  },
  {
   "cell_type": "code",
   "execution_count": 33,
   "metadata": {},
   "outputs": [
    {
     "data": {
      "text/plain": [
       "0.6875"
      ]
     },
     "execution_count": 33,
     "metadata": {},
     "output_type": "execute_result"
    }
   ],
   "source": [
    "denoMax"
   ]
  },
  {
   "cell_type": "code",
   "execution_count": 34,
   "metadata": {},
   "outputs": [
    {
     "data": {
      "text/plain": [
       "array([0.        , 0.        , 0.        , ..., 0.04309274, 0.04152513,\n",
       "       0.04270091], dtype=float32)"
      ]
     },
     "execution_count": 34,
     "metadata": {},
     "output_type": "execute_result"
    }
   ],
   "source": [
    "n"
   ]
  },
  {
   "cell_type": "code",
   "execution_count": 35,
   "metadata": {},
   "outputs": [],
   "source": [
    "#Estimating K\n",
    "\n",
    "K_list = []\n",
    "\n",
    "t_b,t_g,t_r = cv2.split(img)\n",
    "\n",
    "for i in range(img.shape[0]):\n",
    "    for j in range(img.shape[1]):\n",
    "        tempLS = []\n",
    "        tempLS.append(t_b[i][j]/256 - normBacklight[0])\n",
    "        tempLS.append(t_g[i][j]/256 - normBacklight[1])\n",
    "        tempLS.append(t_r[i][j]/256 - normBacklight[2])\n",
    "        K_list.append(max(tempLS)/denoMax)\n"
   ]
  },
  {
   "cell_type": "code",
   "execution_count": 36,
   "metadata": {},
   "outputs": [
    {
     "data": {
      "text/plain": [
       "0.8636363636363636"
      ]
     },
     "execution_count": 36,
     "metadata": {},
     "output_type": "execute_result"
    }
   ],
   "source": [
    "K = max(K_list)\n",
    "K"
   ]
  },
  {
   "cell_type": "code",
   "execution_count": 37,
   "metadata": {},
   "outputs": [],
   "source": [
    "normB = t_b/256\n",
    "normG = t_g/256\n",
    "normR = t_r/256\n",
    "normImg = img/256"
   ]
  },
  {
   "cell_type": "code",
   "execution_count": 38,
   "metadata": {},
   "outputs": [
    {
     "data": {
      "text/plain": [
       "(array([[0.390625  , 0.390625  , 0.3828125 , ..., 0.44921875, 0.453125  ,\n",
       "         0.453125  ],\n",
       "        [0.38671875, 0.390625  , 0.3828125 , ..., 0.44921875, 0.453125  ,\n",
       "         0.453125  ],\n",
       "        [0.39453125, 0.390625  , 0.390625  , ..., 0.453125  , 0.44921875,\n",
       "         0.44921875],\n",
       "        ...,\n",
       "        [0.25390625, 0.25      , 0.2421875 , ..., 0.50390625, 0.50390625,\n",
       "         0.5078125 ],\n",
       "        [0.23046875, 0.25390625, 0.2421875 , ..., 0.48046875, 0.5078125 ,\n",
       "         0.4921875 ],\n",
       "        [0.23046875, 0.25390625, 0.2421875 , ..., 0.484375  , 0.48828125,\n",
       "         0.47265625]]),\n",
       " array([[0.421875  , 0.421875  , 0.4296875 , ..., 0.5234375 , 0.52734375,\n",
       "         0.52734375],\n",
       "        [0.41796875, 0.42578125, 0.4375    , ..., 0.52734375, 0.53125   ,\n",
       "         0.53125   ],\n",
       "        [0.4375    , 0.4453125 , 0.44921875, ..., 0.5390625 , 0.53515625,\n",
       "         0.53515625],\n",
       "        ...,\n",
       "        [0.3984375 , 0.39453125, 0.390625  , ..., 0.73046875, 0.7265625 ,\n",
       "         0.73046875],\n",
       "        [0.3828125 , 0.40625   , 0.39453125, ..., 0.7265625 , 0.73828125,\n",
       "         0.72265625],\n",
       "        [0.3828125 , 0.40625   , 0.39453125, ..., 0.73046875, 0.71875   ,\n",
       "         0.703125  ]]),\n",
       " array([[0.1875    , 0.18359375, 0.171875  , ..., 0.20703125, 0.21875   ,\n",
       "         0.21875   ],\n",
       "        [0.1796875 , 0.1796875 , 0.16015625, ..., 0.203125  , 0.20703125,\n",
       "         0.20703125],\n",
       "        [0.171875  , 0.16796875, 0.16015625, ..., 0.1953125 , 0.19140625,\n",
       "         0.19140625],\n",
       "        ...,\n",
       "        [0.3359375 , 0.33203125, 0.3203125 , ..., 0.6328125 , 0.64453125,\n",
       "         0.6484375 ],\n",
       "        [0.32421875, 0.34375   , 0.33203125, ..., 0.625     , 0.66015625,\n",
       "         0.64453125],\n",
       "        [0.32421875, 0.34375   , 0.33203125, ..., 0.62890625, 0.640625  ,\n",
       "         0.625     ]]),\n",
       " array([[[0.390625  , 0.421875  , 0.1875    ],\n",
       "         [0.390625  , 0.421875  , 0.18359375],\n",
       "         [0.3828125 , 0.4296875 , 0.171875  ],\n",
       "         ...,\n",
       "         [0.44921875, 0.5234375 , 0.20703125],\n",
       "         [0.453125  , 0.52734375, 0.21875   ],\n",
       "         [0.453125  , 0.52734375, 0.21875   ]],\n",
       " \n",
       "        [[0.38671875, 0.41796875, 0.1796875 ],\n",
       "         [0.390625  , 0.42578125, 0.1796875 ],\n",
       "         [0.3828125 , 0.4375    , 0.16015625],\n",
       "         ...,\n",
       "         [0.44921875, 0.52734375, 0.203125  ],\n",
       "         [0.453125  , 0.53125   , 0.20703125],\n",
       "         [0.453125  , 0.53125   , 0.20703125]],\n",
       " \n",
       "        [[0.39453125, 0.4375    , 0.171875  ],\n",
       "         [0.390625  , 0.4453125 , 0.16796875],\n",
       "         [0.390625  , 0.44921875, 0.16015625],\n",
       "         ...,\n",
       "         [0.453125  , 0.5390625 , 0.1953125 ],\n",
       "         [0.44921875, 0.53515625, 0.19140625],\n",
       "         [0.44921875, 0.53515625, 0.19140625]],\n",
       " \n",
       "        ...,\n",
       " \n",
       "        [[0.25390625, 0.3984375 , 0.3359375 ],\n",
       "         [0.25      , 0.39453125, 0.33203125],\n",
       "         [0.2421875 , 0.390625  , 0.3203125 ],\n",
       "         ...,\n",
       "         [0.50390625, 0.73046875, 0.6328125 ],\n",
       "         [0.50390625, 0.7265625 , 0.64453125],\n",
       "         [0.5078125 , 0.73046875, 0.6484375 ]],\n",
       " \n",
       "        [[0.23046875, 0.3828125 , 0.32421875],\n",
       "         [0.25390625, 0.40625   , 0.34375   ],\n",
       "         [0.2421875 , 0.39453125, 0.33203125],\n",
       "         ...,\n",
       "         [0.48046875, 0.7265625 , 0.625     ],\n",
       "         [0.5078125 , 0.73828125, 0.66015625],\n",
       "         [0.4921875 , 0.72265625, 0.64453125]],\n",
       " \n",
       "        [[0.23046875, 0.3828125 , 0.32421875],\n",
       "         [0.25390625, 0.40625   , 0.34375   ],\n",
       "         [0.2421875 , 0.39453125, 0.33203125],\n",
       "         ...,\n",
       "         [0.484375  , 0.73046875, 0.62890625],\n",
       "         [0.48828125, 0.71875   , 0.640625  ],\n",
       "         [0.47265625, 0.703125  , 0.625     ]]]))"
      ]
     },
     "execution_count": 38,
     "metadata": {},
     "output_type": "execute_result"
    }
   ],
   "source": [
    "normB,normG,normR,normImg"
   ]
  },
  {
   "cell_type": "code",
   "execution_count": 39,
   "metadata": {},
   "outputs": [],
   "source": [
    "lambda_r = max(lamda_b,lamda_g)"
   ]
  },
  {
   "cell_type": "code",
   "execution_count": 40,
   "metadata": {},
   "outputs": [
    {
     "data": {
      "text/plain": [
       "(0.6924651162790698, 0.6924651162790698, 0.536416490486258)"
      ]
     },
     "execution_count": 40,
     "metadata": {},
     "output_type": "execute_result"
    }
   ],
   "source": [
    "lambda_r,lamda_b,lamda_g"
   ]
  },
  {
   "cell_type": "code",
   "execution_count": 112,
   "metadata": {
    "scrolled": true
   },
   "outputs": [
    {
     "name": "stderr",
     "output_type": "stream",
     "text": [
      "/home/abhishek/anaconda3/lib/python3.6/site-packages/ipykernel_launcher.py:10: RuntimeWarning: invalid value encountered in double_scalars\n",
      "  # Remove the CWD from sys.path while we load stuff.\n",
      "/home/abhishek/anaconda3/lib/python3.6/site-packages/ipykernel_launcher.py:11: RuntimeWarning: invalid value encountered in double_scalars\n",
      "  # This is added back by InteractiveShellApp.init_path()\n",
      "/home/abhishek/anaconda3/lib/python3.6/site-packages/ipykernel_launcher.py:12: RuntimeWarning: invalid value encountered in double_scalars\n",
      "  if sys.path[0] == '':\n"
     ]
    }
   ],
   "source": [
    "#Obaining the scene radiance\n",
    "\n",
    "J_b = []\n",
    "J_g = []\n",
    "J_r = []\n",
    "\n",
    "for i in range(img.shape[0]):\n",
    "    tB = []\n",
    "    tG = []\n",
    "    tR = []\n",
    "    for j in range(img.shape[1]):\n",
    "        tB.append((normB[i][j] - normBacklight[0])/(max((K*(refined_trans[i][j]**lamda_b)),0.1)) + normBacklight[0])\n",
    "        tG.append((normG[i][j] - normBacklight[1])/(max((K*(refined_trans[i][j]**lamda_g)),0.1)) + normBacklight[1])\n",
    "        tR.append((normR[i][j] - normBacklight[2])/(max((K*(refined_trans[i][j]**lambda_r)),0.1)) + normBacklight[2])\n",
    "    J_b.append(tB)\n",
    "    J_g.append(tG)\n",
    "    J_r.append(tR)\n"
   ]
  },
  {
   "cell_type": "code",
   "execution_count": 127,
   "metadata": {},
   "outputs": [],
   "source": [
    "#Since majority of values were nan, I replaced them with 127 as of now.\n",
    "\n",
    "for i in range(img.shape[0]):\n",
    "    for j in range(img.shape[1]):\n",
    "        if np.isnan(J_b[i][j]):\n",
    "            J_b[i][j] = 127\n",
    "        else:\n",
    "            J_b[i][j] = J_b[i][j]*256\n",
    "        if np.isnan(J_g[i][j]):\n",
    "            J_g[i][j] = 127\n",
    "        else:\n",
    "            J_g[i][j] = J_g[i][j]*256\n",
    "        if np.isnan(J_r[i][j]):\n",
    "            J_r[i][j] = 127\n",
    "        else:\n",
    "            J_r[i][j] = J_r[i][j]*256"
   ]
  },
  {
   "cell_type": "code",
   "execution_count": 128,
   "metadata": {},
   "outputs": [],
   "source": [
    "outputImg = np.zeros((img.shape[0],img.shape[1],3),dtype=np.uint8)\n",
    "\n",
    "outputImg[:,:,0] = np.array(J_b)\n",
    "outputImg[:,:,1] = np.array(J_g)\n",
    "outputImg[:,:,2] = np.array(J_r)\n"
   ]
  },
  {
   "cell_type": "code",
   "execution_count": 129,
   "metadata": {},
   "outputs": [
    {
     "data": {
      "text/plain": [
       "(634, 850, 3)"
      ]
     },
     "execution_count": 129,
     "metadata": {},
     "output_type": "execute_result"
    }
   ],
   "source": [
    "outputImg.shape"
   ]
  },
  {
   "cell_type": "code",
   "execution_count": 130,
   "metadata": {},
   "outputs": [
    {
     "data": {
      "text/plain": [
       "True"
      ]
     },
     "execution_count": 130,
     "metadata": {},
     "output_type": "execute_result"
    }
   ],
   "source": [
    "cv2.imwrite('Try1Output1.png',outputImg)"
   ]
  },
  {
   "cell_type": "code",
   "execution_count": null,
   "metadata": {},
   "outputs": [],
   "source": []
  }
 ],
 "metadata": {
  "kernelspec": {
   "display_name": "Python 3",
   "language": "python",
   "name": "python3"
  },
  "language_info": {
   "codemirror_mode": {
    "name": "ipython",
    "version": 3
   },
   "file_extension": ".py",
   "mimetype": "text/x-python",
   "name": "python",
   "nbconvert_exporter": "python",
   "pygments_lexer": "ipython3",
   "version": "3.6.5"
  }
 },
 "nbformat": 4,
 "nbformat_minor": 2
}
